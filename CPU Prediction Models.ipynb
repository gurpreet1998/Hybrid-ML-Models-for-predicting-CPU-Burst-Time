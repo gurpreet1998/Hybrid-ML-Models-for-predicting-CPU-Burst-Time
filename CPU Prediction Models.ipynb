{
 "cells": [
  {
   "cell_type": "markdown",
   "metadata": {},
   "source": [
    "## Project: Hybrid Machine Learning Models for CPU Burst Time Prediction\n",
    "\n",
    "##                COEN 283\n",
    "\n",
    "## Team: OSSyncro"
   ]
  },
  {
   "cell_type": "markdown",
   "metadata": {},
   "source": [
    "## Getting Started\n",
    "\n",
    "This project aims to predict CPU Burst time which is used for CPU scheduling algorithms like Shortest Job First or Shortest Remaining Time First. We proposed several hybrid prediction machine learning models in which combinations of two feature selection techniques, Gradient boosting and Random forest are used. Several machine learning techniques, including Linear Regression, Random Forest Regressor, Support Vector Regressor (SVR), K-Nearest Neighbor (KNN), Decision-Tree (DT), Ridge Regression have been used.\n",
    "\n",
    "The dataset for this project originates from the http://gwa.ewi.tudelft.nl/datasets/gwa-t-4-auvergrid."
   ]
  },
  {
   "cell_type": "markdown",
   "metadata": {},
   "source": [
    "\n",
    "## Exploring the Data\n"
   ]
  },
  {
   "cell_type": "code",
   "execution_count": 42,
   "metadata": {},
   "outputs": [
    {
     "data": {
      "text/html": [
       "<div>\n",
       "<style scoped>\n",
       "    .dataframe tbody tr th:only-of-type {\n",
       "        vertical-align: middle;\n",
       "    }\n",
       "\n",
       "    .dataframe tbody tr th {\n",
       "        vertical-align: top;\n",
       "    }\n",
       "\n",
       "    .dataframe thead th {\n",
       "        text-align: right;\n",
       "    }\n",
       "</style>\n",
       "<table border=\"1\" class=\"dataframe\">\n",
       "  <thead>\n",
       "    <tr style=\"text-align: right;\">\n",
       "      <th></th>\n",
       "      <th>ï»¿JobID</th>\n",
       "      <th>SubmitTime</th>\n",
       "      <th>WaitTime</th>\n",
       "      <th>RunTime</th>\n",
       "      <th>NProcs</th>\n",
       "      <th>AverageCPUTimeUsed</th>\n",
       "      <th>Used Memory</th>\n",
       "      <th>ReqNProcs</th>\n",
       "      <th>ReqTime:</th>\n",
       "      <th>ReqMemory</th>\n",
       "      <th>...</th>\n",
       "      <th>JobStructureParams</th>\n",
       "      <th>UsedNetwork</th>\n",
       "      <th>UsedLocalDiskSpace</th>\n",
       "      <th>UsedResources</th>\n",
       "      <th>ReqPlatform</th>\n",
       "      <th>ReqNetwork</th>\n",
       "      <th>ReqLocalDiskSpace</th>\n",
       "      <th>ReqResources</th>\n",
       "      <th>VOID</th>\n",
       "      <th>ProjectID</th>\n",
       "    </tr>\n",
       "  </thead>\n",
       "  <tbody>\n",
       "    <tr>\n",
       "      <th>0</th>\n",
       "      <td>1</td>\n",
       "      <td>1136070024</td>\n",
       "      <td>203761</td>\n",
       "      <td>138467</td>\n",
       "      <td>1</td>\n",
       "      <td>138371</td>\n",
       "      <td>98652</td>\n",
       "      <td>1</td>\n",
       "      <td>259200</td>\n",
       "      <td>-1</td>\n",
       "      <td>...</td>\n",
       "      <td>-1</td>\n",
       "      <td>-1</td>\n",
       "      <td>-1</td>\n",
       "      <td>-1</td>\n",
       "      <td>-1</td>\n",
       "      <td>-1</td>\n",
       "      <td>-1</td>\n",
       "      <td>-1</td>\n",
       "      <td>-1</td>\n",
       "      <td>-1</td>\n",
       "    </tr>\n",
       "  </tbody>\n",
       "</table>\n",
       "<p>1 rows × 29 columns</p>\n",
       "</div>"
      ],
      "text/plain": [
       "   ï»¿JobID  SubmitTime  WaitTime  RunTime  NProcs  AverageCPUTimeUsed  \\\n",
       "0         1  1136070024    203761   138467       1              138371   \n",
       "\n",
       "   Used Memory  ReqNProcs  ReqTime:  ReqMemory  ...  JobStructureParams  \\\n",
       "0        98652          1    259200         -1  ...                  -1   \n",
       "\n",
       "  UsedNetwork UsedLocalDiskSpace UsedResources ReqPlatform  ReqNetwork  \\\n",
       "0          -1                 -1            -1          -1          -1   \n",
       "\n",
       "  ReqLocalDiskSpace ReqResources  VOID  ProjectID  \n",
       "0                -1           -1    -1         -1  \n",
       "\n",
       "[1 rows x 29 columns]"
      ]
     },
     "metadata": {},
     "output_type": "display_data"
    }
   ],
   "source": [
    "# Import libraries\n",
    "import numpy as np\n",
    "import pandas as pd\n",
    "from time import time\n",
    "from IPython.display import display # Allows the use of display() for DataFrames\n",
    "\n",
    "# Import visuals.py module\n",
    "import visuals as vs\n",
    "import matplotlib.pyplot as plt\n",
    "\n",
    "# Pretty display for notebooks\n",
    "%matplotlib inline\n",
    "\n",
    "# Load the Census dataset\n",
    "data = pd.read_csv(\"CPU Burst Data\\cpu_processes_datasets.csv\", sep=r'\\s*,\\s*',\n",
    "                           header=0, engine='python')\n",
    "\n",
    "\n",
    "# Success - Display the first record\n",
    "display(data.head(n=1))\n",
    "#type(data)// ------------------------"
   ]
  },
  {
   "cell_type": "markdown",
   "metadata": {},
   "source": [
    "### Implementation: Data Exploration\n",
    "An overview of the dataset suggested that there are multiple records that doesn't have labels present. It is necessary to eliminate those records."
   ]
  },
  {
   "cell_type": "code",
   "execution_count": 43,
   "metadata": {},
   "outputs": [
    {
     "name": "stdout",
     "output_type": "stream",
     "text": [
      "Total number of records: 404176\n",
      "Number of records with labels 347611\n",
      "Number of records without labels 56565\n",
      "Percentage of records with labels: 86.0%\n"
     ]
    }
   ],
   "source": [
    "#Total number of records\n",
    "data = data.rename(columns={'ï»¿JobID': 'JobID'})\n",
    "total_records = data.JobID.count()# -------------------------------------------\n",
    "\n",
    "# Number of records where cpu burst time is present as record label\n",
    "label_present = data[data['RunTime'] != -1]['JobID'].count()\n",
    "\n",
    "# Number of records where cpu burst time is not present\n",
    "label_absent =  data[data['RunTime'] == -1]['JobID'].count()\n",
    "\n",
    "# Percentage of individuals whose income is more than $50,000\n",
    "percent_present = round((label_present/total_records)*100,2)\n",
    "\n",
    "# Print the results\n",
    "print(\"Total number of records: {}\".format(total_records))\n",
    "print(\"Number of records with labels {}\".format(label_present))\n",
    "print(\"Number of records without labels {}\".format(label_absent))\n",
    "print(\"Percentage of records with labels: {}%\".format(percent_present))"
   ]
  },
  {
   "cell_type": "markdown",
   "metadata": {},
   "source": [
    "## Featureset Exploration\n",
    "\n",
    "*  **JobID**:\t\tcounter\n",
    "*  **SubmitTime**:\t\tin seconds, starting from zero\n",
    "*  **WaitTime**:\t\tin seconds\n",
    "*  **RunTime**: \t\truntime measured in wallclock seconds\n",
    "*  **NProcs**:\t\tnumber of allocated processors\n",
    "*  **AverageCPUTimeUsed**:\taverage of CPU time over all allocated processors\n",
    "*  **Used Memory**:\taverage per processor in kilobytes\n",
    "*  **ReqNProcs**:\t\trequested number of processors\n",
    "* **ReqTime**: \t\trequested time measured in wallclock seconds\n",
    "* **ReqMemory**:\t\trequested memory (average per processor)\n",
    "* **Status**:\t\tjob completed = 1, job failed = 0, job cancelled = 5\n",
    "* **UserID**:\t\tstring identifier for user\n",
    "* **GroupID**:\t\tstring identifier for group user belongs to\n",
    "* **ExecutableID**:\tname of executable\n",
    "* **QueueID**:\t\tstring identifier for queue\n",
    "* **PartitionID**:\tstring identifier for partition\n",
    "* **OrigSiteID**:\t\tstring identifier for submission site\n",
    "* **LastRunSiteID**:\tstring identifier for execution site\n",
    "* **JobStructure**:\tsingle job = UNITARY, composite job = BoT\n",
    "* **JobStructureParams**: if JobStructure = BoT, contains batch identifier\n",
    "* **UsedNetwork**:\tused network resources in kilobytes/second\n",
    "* **UsedLocalDiskSpace**:\tin megabytes\n",
    "* **UsedResources**:\tlist of comma-separated generic resources (ResourceDescription:Consumption) \n",
    "* **memory usage**: in Gb seconds, io data transferred, and io wait time in seconds \n",
    "* **ReqPlatform**:\tCPUArchitecture,OS,OSVersion\n",
    "* **ReqNetwork**:\t\tin kilobytes/second\n",
    "* **ReqLocalDiskSpace**:\tin megabytes\n",
    "* **ReqResources**:\tlist of comma-separated generic resources (ResourceDescription:Consumption)\n",
    "* **VOID**:\t\tidentifier for Virtual Organization\n",
    "* **ProjectID**:\t\tidentifier for project\n",
    "\n",
    "**(fields contain -1 if not available)**"
   ]
  },
  {
   "cell_type": "markdown",
   "metadata": {},
   "source": [
    "----\n",
    "## Preparing the Data\n",
    "\n",
    "This data has alot of missing values and must be cleaned, formatted, and restructured. This preprocessing can help tremendously with the outcome and predictive power of nearly all learning algorithms."
   ]
  },
  {
   "cell_type": "markdown",
   "metadata": {},
   "source": [
    "### Cleaning Dataset\n",
    "Dropping columns having values -1 i.e no information available, hence no useful "
   ]
  },
  {
   "cell_type": "code",
   "execution_count": 44,
   "metadata": {
    "scrolled": false
   },
   "outputs": [
    {
     "name": "stdout",
     "output_type": "stream",
     "text": [
      "Column ReqMemory has 311780 missing values\n",
      "Dropped ReqMemory column\n",
      "Column JobStructure has 347611 missing values\n",
      "Dropped JobStructure column\n",
      "Column JobStructureParams has 347611 missing values\n",
      "Dropped JobStructureParams column\n",
      "Column UsedNetwork has 347611 missing values\n",
      "Dropped UsedNetwork column\n",
      "Column UsedLocalDiskSpace has 347611 missing values\n",
      "Dropped UsedLocalDiskSpace column\n",
      "Column UsedResources has 347611 missing values\n",
      "Dropped UsedResources column\n",
      "Column ReqPlatform has 347611 missing values\n",
      "Dropped ReqPlatform column\n",
      "Column ReqNetwork has 347611 missing values\n",
      "Dropped ReqNetwork column\n",
      "Column ReqLocalDiskSpace has 347611 missing values\n",
      "Dropped ReqLocalDiskSpace column\n",
      "Column ReqResources has 347611 missing values\n",
      "Dropped ReqResources column\n",
      "Column VOID has 347611 missing values\n",
      "Dropped VOID column\n",
      "Column ProjectID has 347611 missing values\n",
      "Dropped ProjectID column\n"
     ]
    }
   ],
   "source": [
    "#Deleting all rows having BurstTime == -1 \n",
    "data = data[data.RunTime != -1]\n",
    "total_data_count = data.RunTime.count()\n",
    "\n",
    "#Dropping columns having more than 90% of the missing values (-1)\n",
    "threshold = 80\n",
    "colNames = [\"ReqMemory\",\"JobStructure\",\"JobStructureParams\",\"UsedNetwork\", \"UsedLocalDiskSpace\",\"UsedResources\",\"ReqPlatform\",\"ReqNetwork\",\"ReqLocalDiskSpace\", \"ReqResources\",\"VOID\",\"ProjectID\"\n",
    "]\n",
    "def removeColumns(colName):\n",
    "    missingRows = data[data[\"{}\".format(colName)] == -1].JobID.count()\n",
    "    print(\"Column {} has {} missing values\".format(colName, missingRows))\n",
    "    if (threshold <= (missingRows/total_data_count)*100):\n",
    "        data.drop(\"{}\".format(colName), axis = 1, inplace=True)\n",
    "        print(\"Dropped {} column\".format(colName))\n",
    "        \n",
    "for col in colNames:\n",
    "    removeColumns(col)"
   ]
  },
  {
   "cell_type": "code",
   "execution_count": 56,
   "metadata": {},
   "outputs": [],
   "source": [
    "import warnings\n",
    "warnings.filterwarnings(\"ignore\", category = UserWarning, module = \"matplotlib\")\n",
    "# Display inline matplotlib plots with IPython\n",
    "from IPython import get_ipython\n",
    "get_ipython().run_line_magic('matplotlib', 'inline')\n",
    "###########################################\n",
    "\n",
    "import matplotlib.pyplot as pl\n",
    "import matplotlib.patches as mpatches\n",
    "import numpy as np\n",
    "import pandas as pd\n",
    "from time import time\n",
    "from sklearn.metrics import f1_score, accuracy_score\n",
    "\n",
    "\n",
    "def distribution(feature1, feature2, data, transformed = False):\n",
    "    \"\"\"\n",
    "    Visualization code for displaying skewed distributions of features\n",
    "    \"\"\"\n",
    "    \n",
    "    # Create figure\n",
    "    fig = pl.figure(figsize = (11,5));\n",
    "\n",
    "    # Skewed feature plotting\n",
    "    for i, feature in enumerate(['{}'.format(feature1),'{}'.format(feature2)]):\n",
    "        ax = fig.add_subplot(1, 2, i+1)\n",
    "        ax.hist(data[feature], bins = 25, color = '#00A0A0')\n",
    "        ax.set_title(\"'%s' Feature Distribution\"%(feature), fontsize = 14)\n",
    "        ax.set_xlabel(\"Value\")\n",
    "        ax.set_ylabel(\"Number of Records\")\n",
    "        ax.set_ylim((0, 2000))\n",
    "        ax.set_yticks([0, 10000, 20000, 30000, 50000])\n",
    "        ax.set_yticklabels([0, 10000, 20000, 30000, \">50000\"])\n",
    "\n",
    "    # Plot aesthetics\n",
    "    if transformed:\n",
    "        fig.suptitle(\"Log-transformed Distributions of Continuous Census Data Features\", \\\n",
    "            fontsize = 16, y = 1.03)\n",
    "    else:\n",
    "        fig.suptitle(\"Skewed Distributions of Continuous Census Data Features\", \\\n",
    "            fontsize = 16, y = 1.03)\n",
    "\n",
    "    fig.tight_layout()\n",
    "    fig.savefig('After-Skew.png', dpi=200)\n",
    "    fig.show()"
   ]
  },
  {
   "cell_type": "markdown",
   "metadata": {},
   "source": [
    "### Transforming Skewed Continuous Features\n",
    "\n",
    "A dataset may sometimes contain at least one feature whose values tend to lie near a single number, but will also have a non-trivial number of vastly larger or smaller values than that single number.  Algorithms can be sensitive to such distributions of values and can underperform if the range is not properly normalized. With the census dataset two features fit this description: '`Wait Time`, `'Average CPU Time Used'`, `'Used Memory'`, `'Req Time'`. \n"
   ]
  },
  {
   "cell_type": "code",
   "execution_count": 54,
   "metadata": {
    "scrolled": false
   },
   "outputs": [
    {
     "name": "stdout",
     "output_type": "stream",
     "text": [
      "Number of Rows: 347611\n",
      "Number of Columns: 17\n"
     ]
    },
    {
     "name": "stderr",
     "output_type": "stream",
     "text": [
      "C:\\Users\\HP\\Anaconda3\\lib\\site-packages\\ipykernel_launcher.py:45: UserWarning: Matplotlib is currently using module://matplotlib_inline.backend_inline, which is a non-GUI backend, so cannot show the figure.\n"
     ]
    },
    {
     "ename": "NameError",
     "evalue": "name 'fig' is not defined",
     "output_type": "error",
     "traceback": [
      "\u001b[1;31m---------------------------------------------------------------------------\u001b[0m",
      "\u001b[1;31mNameError\u001b[0m                                 Traceback (most recent call last)",
      "\u001b[1;32m<ipython-input-54-eee074b65ba0>\u001b[0m in \u001b[0;36m<module>\u001b[1;34m\u001b[0m\n\u001b[0;32m     12\u001b[0m \u001b[0mdistribution\u001b[0m\u001b[1;33m(\u001b[0m\u001b[1;34m'WaitTime'\u001b[0m\u001b[1;33m,\u001b[0m\u001b[1;34m'AverageCPUTimeUsed'\u001b[0m\u001b[1;33m,\u001b[0m\u001b[0mdata\u001b[0m\u001b[1;33m)\u001b[0m\u001b[1;33m\u001b[0m\u001b[1;33m\u001b[0m\u001b[0m\n\u001b[0;32m     13\u001b[0m \u001b[0mdistribution\u001b[0m\u001b[1;33m(\u001b[0m\u001b[1;34m'Used Memory'\u001b[0m\u001b[1;33m,\u001b[0m\u001b[1;34m'ReqTime:'\u001b[0m\u001b[1;33m,\u001b[0m\u001b[0mdata\u001b[0m\u001b[1;33m)\u001b[0m\u001b[1;33m\u001b[0m\u001b[1;33m\u001b[0m\u001b[0m\n\u001b[1;32m---> 14\u001b[1;33m \u001b[0mfig\u001b[0m\u001b[1;33m.\u001b[0m\u001b[0msavefig\u001b[0m\u001b[1;33m(\u001b[0m\u001b[1;34m'Before-Skew.png'\u001b[0m\u001b[1;33m,\u001b[0m \u001b[0mdpi\u001b[0m\u001b[1;33m=\u001b[0m\u001b[1;36m200\u001b[0m\u001b[1;33m)\u001b[0m\u001b[1;33m\u001b[0m\u001b[1;33m\u001b[0m\u001b[0m\n\u001b[0m",
      "\u001b[1;31mNameError\u001b[0m: name 'fig' is not defined"
     ]
    },
    {
     "data": {
      "image/png": "[encoded data removed]",
      "text/plain": [
       "<Figure size 792x360 with 2 Axes>"
      ]
     },
     "metadata": {
      "needs_background": "light"
     },
     "output_type": "display_data"
    },
    {
     "data": {
      "image/png": "[encoded data removed]",
      "text/plain": [
       "<Figure size 792x360 with 2 Axes>"
      ]
     },
     "metadata": {
      "needs_background": "light"
     },
     "output_type": "display_data"
    }
   ],
   "source": [
    "# Latest Shape of Dataset after removing missing values from rows and columns\n",
    "print(\"Number of Rows:\", data.shape[0])\n",
    "print(\"Number of Columns:\", data.shape[1])\n",
    "\n",
    "# Split the data into features and target label\n",
    "actual_burstTime = data['RunTime']\n",
    "features_Set = data.drop('RunTime', axis = 1)\n",
    "\n",
    "#vs.distribution(income_raw)\n",
    "\n",
    "# Visualize skewed continuous features of original data\n",
    "distribution('WaitTime','AverageCPUTimeUsed',data)\n",
    "distribution('Used Memory','ReqTime:',data)\n",
    "fig.savefig('Before-Skew.png', dpi=200)"
   ]
  },
  {
   "cell_type": "code",
   "execution_count": 53,
   "metadata": {},
   "outputs": [
    {
     "name": "stderr",
     "output_type": "stream",
     "text": [
      "C:\\Users\\HP\\Anaconda3\\lib\\site-packages\\ipykernel_launcher.py:45: UserWarning: Matplotlib is currently using module://matplotlib_inline.backend_inline, which is a non-GUI backend, so cannot show the figure.\n"
     ]
    },
    {
     "data": {
      "image/png": "[encoded data removed]",
      "text/plain": [
       "<Figure size 792x360 with 2 Axes>"
      ]
     },
     "metadata": {
      "needs_background": "light"
     },
     "output_type": "display_data"
    },
    {
     "data": {
      "image/png": "[encoded data removed]",
      "text/plain": [
       "<Figure size 792x360 with 2 Axes>"
      ]
     },
     "metadata": {
      "needs_background": "light"
     },
     "output_type": "display_data"
    }
   ],
   "source": [
    "# Log-transform the skewed features\n",
    "#print(features_raw[skewed])\n",
    "\n",
    "skewed = ['WaitTime', 'AverageCPUTimeUsed','Used Memory','ReqTime:']\n",
    "features_log_transformed = pd.DataFrame(data = features_Set)\n",
    "features_log_transformed[skewed] = features_Set[skewed].apply(lambda x: np.log(x + 1))\n",
    "#print(features_log_transformed[skewed])\n",
    "\n",
    "# Visualize the new log distributions\n",
    "distribution('WaitTime','AverageCPUTimeUsed',features_log_transformed, transformed = True)\n",
    "distribution('Used Memory','ReqTime:',features_log_transformed, transformed = True)\n",
    "fig.savefig('After-Skew.png', dpi=200)"
   ]
  },
  {
   "cell_type": "markdown",
   "metadata": {},
   "source": [
    "### Normalizing Numerical Features\n"
   ]
  },
  {
   "cell_type": "code",
   "execution_count": 8,
   "metadata": {},
   "outputs": [
    {
     "data": {
      "text/html": [
       "<div>\n",
       "<style scoped>\n",
       "    .dataframe tbody tr th:only-of-type {\n",
       "        vertical-align: middle;\n",
       "    }\n",
       "\n",
       "    .dataframe tbody tr th {\n",
       "        vertical-align: top;\n",
       "    }\n",
       "\n",
       "    .dataframe thead th {\n",
       "        text-align: right;\n",
       "    }\n",
       "</style>\n",
       "<table border=\"1\" class=\"dataframe\">\n",
       "  <thead>\n",
       "    <tr style=\"text-align: right;\">\n",
       "      <th></th>\n",
       "      <th>JobID</th>\n",
       "      <th>SubmitTime</th>\n",
       "      <th>WaitTime</th>\n",
       "      <th>NProcs</th>\n",
       "      <th>AverageCPUTimeUsed</th>\n",
       "      <th>Used Memory</th>\n",
       "      <th>ReqNProcs</th>\n",
       "      <th>ReqTime:</th>\n",
       "      <th>Status</th>\n",
       "      <th>UserID</th>\n",
       "      <th>GroupID</th>\n",
       "      <th>ExecutableID</th>\n",
       "      <th>QueueID</th>\n",
       "      <th>PartitionID</th>\n",
       "      <th>OrigSiteID</th>\n",
       "      <th>LastRunSiteID</th>\n",
       "    </tr>\n",
       "  </thead>\n",
       "  <tbody>\n",
       "    <tr>\n",
       "      <th>0</th>\n",
       "      <td>1</td>\n",
       "      <td>0.000000</td>\n",
       "      <td>0.799804</td>\n",
       "      <td>0.0</td>\n",
       "      <td>0.949614</td>\n",
       "      <td>0.760788</td>\n",
       "      <td>0.0</td>\n",
       "      <td>0.954728</td>\n",
       "      <td>1</td>\n",
       "      <td>U2004S1</td>\n",
       "      <td>G3</td>\n",
       "      <td>X1</td>\n",
       "      <td>Q5</td>\n",
       "      <td>1</td>\n",
       "      <td>clrlcgce02</td>\n",
       "      <td>clrlcgce02</td>\n",
       "    </tr>\n",
       "    <tr>\n",
       "      <th>1</th>\n",
       "      <td>2</td>\n",
       "      <td>0.000021</td>\n",
       "      <td>0.000000</td>\n",
       "      <td>0.0</td>\n",
       "      <td>0.129108</td>\n",
       "      <td>0.693816</td>\n",
       "      <td>0.0</td>\n",
       "      <td>0.954728</td>\n",
       "      <td>1</td>\n",
       "      <td>U1023S0</td>\n",
       "      <td>G1</td>\n",
       "      <td>X1</td>\n",
       "      <td>Q1</td>\n",
       "      <td>1</td>\n",
       "      <td>clrlcgce01</td>\n",
       "      <td>clrlcgce01</td>\n",
       "    </tr>\n",
       "    <tr>\n",
       "      <th>2</th>\n",
       "      <td>3</td>\n",
       "      <td>0.000038</td>\n",
       "      <td>0.312123</td>\n",
       "      <td>0.0</td>\n",
       "      <td>0.000000</td>\n",
       "      <td>0.000000</td>\n",
       "      <td>0.0</td>\n",
       "      <td>0.954728</td>\n",
       "      <td>1</td>\n",
       "      <td>U2035S1</td>\n",
       "      <td>G6</td>\n",
       "      <td>X1</td>\n",
       "      <td>Q2</td>\n",
       "      <td>1</td>\n",
       "      <td>clrlcgce02</td>\n",
       "      <td>clrlcgce02</td>\n",
       "    </tr>\n",
       "    <tr>\n",
       "      <th>3</th>\n",
       "      <td>4</td>\n",
       "      <td>0.000039</td>\n",
       "      <td>0.548980</td>\n",
       "      <td>0.0</td>\n",
       "      <td>0.000000</td>\n",
       "      <td>0.000000</td>\n",
       "      <td>0.0</td>\n",
       "      <td>0.954728</td>\n",
       "      <td>1</td>\n",
       "      <td>U2035S1</td>\n",
       "      <td>G6</td>\n",
       "      <td>X1</td>\n",
       "      <td>Q2</td>\n",
       "      <td>1</td>\n",
       "      <td>clrlcgce02</td>\n",
       "      <td>clrlcgce02</td>\n",
       "    </tr>\n",
       "    <tr>\n",
       "      <th>4</th>\n",
       "      <td>5</td>\n",
       "      <td>0.000039</td>\n",
       "      <td>0.799403</td>\n",
       "      <td>0.0</td>\n",
       "      <td>0.789198</td>\n",
       "      <td>0.871048</td>\n",
       "      <td>0.0</td>\n",
       "      <td>0.954728</td>\n",
       "      <td>1</td>\n",
       "      <td>U2035S1</td>\n",
       "      <td>G6</td>\n",
       "      <td>X1</td>\n",
       "      <td>Q2</td>\n",
       "      <td>1</td>\n",
       "      <td>clrlcgce02</td>\n",
       "      <td>clrlcgce02</td>\n",
       "    </tr>\n",
       "  </tbody>\n",
       "</table>\n",
       "</div>"
      ],
      "text/plain": [
       "   JobID  SubmitTime  WaitTime  NProcs  AverageCPUTimeUsed  Used Memory  \\\n",
       "0      1    0.000000  0.799804     0.0            0.949614     0.760788   \n",
       "1      2    0.000021  0.000000     0.0            0.129108     0.693816   \n",
       "2      3    0.000038  0.312123     0.0            0.000000     0.000000   \n",
       "3      4    0.000039  0.548980     0.0            0.000000     0.000000   \n",
       "4      5    0.000039  0.799403     0.0            0.789198     0.871048   \n",
       "\n",
       "   ReqNProcs  ReqTime:  Status   UserID GroupID ExecutableID QueueID  \\\n",
       "0        0.0  0.954728       1  U2004S1      G3           X1      Q5   \n",
       "1        0.0  0.954728       1  U1023S0      G1           X1      Q1   \n",
       "2        0.0  0.954728       1  U2035S1      G6           X1      Q2   \n",
       "3        0.0  0.954728       1  U2035S1      G6           X1      Q2   \n",
       "4        0.0  0.954728       1  U2035S1      G6           X1      Q2   \n",
       "\n",
       "   PartitionID  OrigSiteID LastRunSiteID  \n",
       "0            1  clrlcgce02    clrlcgce02  \n",
       "1            1  clrlcgce01    clrlcgce01  \n",
       "2            1  clrlcgce02    clrlcgce02  \n",
       "3            1  clrlcgce02    clrlcgce02  \n",
       "4            1  clrlcgce02    clrlcgce02  "
      ]
     },
     "metadata": {},
     "output_type": "display_data"
    }
   ],
   "source": [
    "# Import sklearn.preprocessing.StandardScaler\n",
    "from sklearn.preprocessing import MinMaxScaler\n",
    "\n",
    "# Initialize a scaler, then apply it to the features\n",
    "scaler = MinMaxScaler() # default=(0, 1)\n",
    "numerical = ['WaitTime', 'NProcs', 'AverageCPUTimeUsed', 'Used Memory', 'ReqNProcs','ReqTime:','SubmitTime']\n",
    "\n",
    "features_log_minmax_transform = pd.DataFrame(data = features_log_transformed)\n",
    "#print(features_log_minmax_transform)\n",
    "features_log_minmax_transform[numerical] = scaler.fit_transform(features_log_transformed[numerical])\n",
    "\n",
    "# Show an example of a record with scaling applied\n",
    "display(features_log_minmax_transform.head(n = 5))\n"
   ]
  },
  {
   "cell_type": "markdown",
   "metadata": {},
   "source": [
    "### Implementation: Data Preprocessing\n",
    "\n",
    "There are several features for each record that are non-numeric. Typically, learning algorithms expect input to be numeric, which requires that non-numeric features (called *categorical variables*) be converted. One popular way to convert categorical variables is by using the **one-hot encoding** scheme. One-hot encoding creates a _\"dummy\"_ variable for each possible category of each non-numeric feature.\n",
    "\n",
    "|   | someFeature |                    | someFeature_A | someFeature_B | someFeature_C |\n",
    "| :-: | :-: |                            | :-: | :-: | :-: |\n",
    "| 0 |  B  |  | 0 | 1 | 0 |\n",
    "| 1 |  C  | ----> one-hot encode ----> | 0 | 0 | 1 |\n",
    "| 2 |  A  |  | 1 | 0 | 0 |\n"
   ]
  },
  {
   "cell_type": "code",
   "execution_count": 10,
   "metadata": {
    "scrolled": true
   },
   "outputs": [
    {
     "name": "stdout",
     "output_type": "stream",
     "text": [
      " 460 total features after one-hot encoding.\n"
     ]
    }
   ],
   "source": [
    "features_final = pd.get_dummies(features_log_minmax_transform)\n",
    "\n",
    "# Print the number of features after one-hot encoding\n",
    "encoded = list(features_final.columns)\n",
    "print(\" {} total features after one-hot encoding.\".format(len(encoded)))\n",
    "\n"
   ]
  },
  {
   "cell_type": "code",
   "execution_count": 37,
   "metadata": {},
   "outputs": [
    {
     "name": "stdout",
     "output_type": "stream",
     "text": [
      "0         138467\n",
      "1             11\n",
      "2         201203\n",
      "3         196985\n",
      "4          19520\n",
      "           ...  \n",
      "404170        41\n",
      "404171        56\n",
      "404172        57\n",
      "404173        45\n",
      "404174        43\n",
      "Name: RunTime, Length: 347611, dtype: int64\n"
     ]
    }
   ],
   "source": [
    "#Labels\n",
    "\n",
    "print(actual_burstTime)"
   ]
  },
  {
   "cell_type": "markdown",
   "metadata": {},
   "source": [
    "### Shuffle and Split Data\n",
    "Till now all _categorical variables_ have been converted into numerical features, and all numerical features have been normalized. \n",
    "We will now split the data into training and test sets. 80% of the data will be used for training and 20% for testing.\n"
   ]
  },
  {
   "cell_type": "code",
   "execution_count": 11,
   "metadata": {},
   "outputs": [
    {
     "name": "stdout",
     "output_type": "stream",
     "text": [
      "Training set has 278088 samples.\n",
      "Testing set has 69523 samples.\n"
     ]
    }
   ],
   "source": [
    "# Import train_test_split\n",
    "from sklearn.model_selection import train_test_split\n",
    "\n",
    "# Split the 'features' and 'income' data into training and testing sets\n",
    "X_train, X_test, y_train, y_test = train_test_split(features_final, \n",
    "                                                    actual_burstTime, \n",
    "                                                    test_size = 0.2, \n",
    "                                                    random_state = 0)\n",
    "\n",
    "# Show the results of the split\n",
    "print(\"Training set has {} samples.\".format(X_train.shape[0])) #shape[0] it checks no of rows\n",
    "print(\"Testing set has {} samples.\".format(X_test.shape[0]))\n"
   ]
  },
  {
   "cell_type": "markdown",
   "metadata": {},
   "source": [
    "## Evaluating Model Performance\n",
    "In this section, we will investigate four different algorithms, and determine which is best at modeling the data. Three of these algorithms will be supervised learners of your choice, and the fourth algorithm is known as a *naive predictor*."
   ]
  },
  {
   "cell_type": "markdown",
   "metadata": {},
   "source": [
    "###  Supervised Learning Models\n",
    "\n",
    "- LinearRegression\n",
    "- Decision Trees\n",
    "- Ensemble Methods (Random Forest, Gradient Boosting)\n",
    "- K-Nearest Neighbors (KNeighbors)\n",
    "- Support Vector Regressor (SVM)\n",
    "- Ridge Regression"
   ]
  },
  {
   "cell_type": "code",
   "execution_count": 12,
   "metadata": {},
   "outputs": [],
   "source": [
    "from sklearn.metrics import mean_absolute_error, r2_score\n",
    "import numpy as np\n",
    "\n",
    "def mean_absolute_percentage_error(y_true, predictions):\n",
    "    error = 0\n",
    "    y_true, predictions = np.array(y_true), np.array(predictions)\n",
    "    for i in range(len(predictions)):\n",
    "        error += abs(y_true[i] - predictions[i])/y_true[i]\n",
    "    return error/len(y_true)\n",
    "\n",
    "def train_predict(learner, sample_size, X_train, y_train, X_test, y_test): \n",
    "    \n",
    "    results = {}\n",
    "    \n",
    "    # Fit the learner to the training data\n",
    "    start = time() # Get start time\n",
    "    print(\"learner\", learner)\n",
    "    learner.fit(X_train[:sample_size],y_train[:sample_size])\n",
    "    end = time() # Get end time\n",
    "    \n",
    "    # Calculate the training time\n",
    "    results['train_time'] = end - start\n",
    "        \n",
    "    # Get the predictions on the test set(X_test)\n",
    "    start = time() # Get start time\n",
    "    predictions_test = learner.predict(X_test)\n",
    "    predictions_train = learner.predict(X_train[:300])\n",
    "    end = time() # Get end time\n",
    "    \n",
    "    # Calculate the total prediction time\n",
    "    results['pred_time'] = end - start\n",
    "            \n",
    "    results['MAE_train'] = mean_absolute_error(y_train[:300], predictions_train)\n",
    "            \n",
    "    #Compute MAE_Test on test set using accuracy_score()\n",
    "    results['MAE_test'] = mean_absolute_error(y_test,predictions_test)\n",
    "    \n",
    "    # Compute R2-Score on the the first 300 training samples using fbeta_score()\n",
    "    results['R2_train'] = r2_score(y_train[:300],predictions_train)\n",
    "        \n",
    "    # Compute R2-Score on the test set which is y_test\n",
    "    results['R2_test'] = r2_score(y_test,predictions_test)\n",
    "       \n",
    "    # Success\n",
    "    print(\"{} trained on {} samples.\".format(learner.__class__.__name__, sample_size))\n",
    "        \n",
    "    # Return the results\n",
    "    return results"
   ]
  },
  {
   "cell_type": "markdown",
   "metadata": {},
   "source": [
    "### Implementation: Initial Model Evaluation\n",
    "\n",
    "- Import the three supervised learning models from the previous section.\n",
    "- Initializing the three models and store them in `'clf_A'`, `'clf_B'`, and `'clf_C'`.\n",
    "- Calculate the number of records equal to 1%, 10%, and 100% of the training data.\n",
    "\n"
   ]
  },
  {
   "cell_type": "code",
   "execution_count": 38,
   "metadata": {},
   "outputs": [],
   "source": [
    "import warnings\n",
    "warnings.filterwarnings(\"ignore\", category = UserWarning, module = \"matplotlib\")\n",
    "#\n",
    "# Display inline matplotlib plots with IPython\n",
    "from IPython import get_ipython\n",
    "get_ipython().run_line_magic('matplotlib', 'inline')\n",
    "###########################################\n",
    "\n",
    "import matplotlib.pyplot as pl\n",
    "import matplotlib.patches as mpatches\n",
    "import numpy as np\n",
    "import pandas as pd\n",
    "from time import time\n",
    "from sklearn.metrics import f1_score, accuracy_score\n",
    "\n",
    "\n",
    "def distribution(data, transformed = False):\n",
    "    \"\"\"\n",
    "    Visualization code for displaying skewed distributions of features\n",
    "    \"\"\"\n",
    "    \n",
    "    # Create figure\n",
    "    fig = pl.figure(figsize = (11,5));\n",
    "\n",
    "    # Skewed feature plotting\n",
    "    for i, feature in enumerate(['WaitTime','AverageCPUTimeUsed']):\n",
    "        ax = fig.add_subplot(1, 2, i+1)\n",
    "        ax.hist(data[feature], bins = 25, color = '#00A0A0')\n",
    "        ax.set_title(\"'%s' Feature Distribution\"%(feature), fontsize = 14)\n",
    "        ax.set_xlabel(\"Value\")\n",
    "        ax.set_ylabel(\"Number of Records\")\n",
    "        ax.set_ylim((0, 2000))\n",
    "        ax.set_yticks([0, 500, 1000, 1500, 2000])\n",
    "        ax.set_yticklabels([0, 500, 1000, 1500, \">2000\"])\n",
    "\n",
    "    # Plot aesthetics\n",
    "    if transformed:\n",
    "        fig.suptitle(\"Log-transformed Distributions of Continuous Census Data Features\", \\\n",
    "            fontsize = 16, y = 1.03)\n",
    "    else:\n",
    "        fig.suptitle(\"Skewed Distributions of Continuous Census Data Features\", \\\n",
    "            fontsize = 16, y = 1.03)\n",
    "\n",
    "    fig.tight_layout()\n",
    "    fig.show()\n",
    "\n",
    "\n",
    "def evaluate(results, accuracy, f1):\n",
    "    \"\"\"\n",
    "    Visualization code to display results of various learners.\n",
    "    \n",
    "    inputs:\n",
    "      - learners: a list of supervised learners\n",
    "      - stats: a list of dictionaries of the statistic results from 'train_predict()'\n",
    "      - accuracy: The score for the naive predictor\n",
    "      - f1: The score for the naive predictor\n",
    "    \"\"\"\n",
    "  \n",
    "    # Create figure\n",
    "    fig, ax = pl.subplots(2, 3, figsize = (11,7))\n",
    "\n",
    "    # Constants\n",
    "    bar_width = 0.3\n",
    "    colors = ['#A00000','#00A0A0','#00A000']\n",
    "    \n",
    "    # Super loop to plot four panels of data\n",
    "    for k, learner in enumerate(results.keys()):\n",
    "        for j, metric in enumerate(['train_time', 'MAE_train', 'R2_train', 'pred_time', 'MAE_test', 'R2_test']):\n",
    "            for i in np.arange(3):\n",
    "                \n",
    "                # Creative plot code\n",
    "                ax[j//3, j%3].bar(i+k*bar_width, results[learner][i][metric], width = bar_width, color = colors[k])\n",
    "                ax[j//3, j%3].set_xticks([0.45, 1.45, 2.45])\n",
    "                ax[j//3, j%3].set_xticklabels([\"1%\", \"10%\", \"100%\"])\n",
    "                ax[j//3, j%3].set_xlabel(\"Training Set Size\")\n",
    "                ax[j//3, j%3].set_xlim((-0.1, 3.0))\n",
    "    \n",
    "    # Add unique y-labels\n",
    "    ax[0, 0].set_ylabel(\"Time (in seconds)\")\n",
    "    ax[0, 1].set_ylabel(\"Mean Abs Error Score\")\n",
    "    ax[0, 2].set_ylabel(\"R2 score\")\n",
    "    ax[1, 0].set_ylabel(\"Time (in seconds)\")\n",
    "    ax[1, 1].set_ylabel(\"Mean Abs Error Score\")\n",
    "    ax[1, 2].set_ylabel(\"R2 score\")\n",
    "    \n",
    "    # Add titles\n",
    "    ax[0, 0].set_title(\"Model Training\")\n",
    "    ax[0, 1].set_title(\"MAE Score on Training Subset\")\n",
    "    ax[0, 2].set_title(\"R2 on Training Subset\")\n",
    "    ax[1, 0].set_title(\"Model Predicting\")\n",
    "    ax[1, 1].set_title(\"MAE Score Test Set\")\n",
    "    ax[1, 2].set_title(\"R2 on Testing Set\")\n",
    "    \n",
    "    # Add horizontal lines for naive predictors\n",
    "    ax[0, 1].axhline(y = accuracy, xmin = -0.1, xmax = 3.0, linewidth = 1, color = 'k', linestyle = 'dashed')\n",
    "    ax[1, 1].axhline(y = accuracy, xmin = -0.1, xmax = 3.0, linewidth = 1, color = 'k', linestyle = 'dashed')\n",
    "    ax[0, 2].axhline(y = f1, xmin = -0.1, xmax = 3.0, linewidth = 1, color = 'k', linestyle = 'dashed')\n",
    "    ax[1, 2].axhline(y = f1, xmin = -0.1, xmax = 3.0, linewidth = 1, color = 'k', linestyle = 'dashed')\n",
    "    \n",
    "    # Set y-limits for score panels\n",
    "    ax[0, 1].set_ylim((0, 10000))\n",
    "    ax[0, 2].set_ylim((0, 1))\n",
    "    ax[1, 1].set_ylim((0, 10000))\n",
    "    ax[1, 2].set_ylim((0, 1))\n",
    "\n",
    "    # Create patches for the legend\n",
    "    patches = []\n",
    "    for i, learner in enumerate(results.keys()):\n",
    "        patches.append(mpatches.Patch(color = colors[i], label = learner))\n",
    "    pl.legend(handles = patches, bbox_to_anchor = (-.80, 2.53), \\\n",
    "               loc = 'upper center', borderaxespad = 0., ncol = 3, fontsize = 'x-large')\n",
    "    \n",
    "    # Aesthetics\n",
    "    pl.suptitle(\"Performance Metrics for Three Supervised Learning Models\", fontsize = 16, y = 1.10)\n",
    "    pl.tight_layout()\n",
    "    pl.savefig('Performance.png', dpi=200)\n",
    "    pl.show()\n",
    "    \n",
    "\n",
    "def feature_plot(importances, X_train, y_train):\n",
    "    \n",
    "    # Display the five most important features\n",
    "    indices = np.argsort(importances)[::-1]\n",
    "    columns = X_train.columns.values[indices[:5]]\n",
    "    values = importances[indices][:5]\n",
    "\n",
    "    # Creat the plot\n",
    "    fig = pl.figure(figsize = (9,5))\n",
    "    pl.title(\"Normalized Weights for First Five Most Predictive Features\", fontsize = 16)\n",
    "    pl.bar(np.arange(5), values, width = 0.6, align=\"center\", color = '#00A000', \\\n",
    "          label = \"Feature Weight\")\n",
    "    pl.bar(np.arange(5) - 0.3, np.cumsum(values), width = 0.2, align = \"center\", color = '#00A0A0', \\\n",
    "          label = \"Cumulative Feature Weight\")\n",
    "    pl.xticks(np.arange(5), columns)\n",
    "    pl.xlim((-0.5, 4.5))\n",
    "    pl.ylabel(\"Weight\", fontsize = 12)\n",
    "    pl.xlabel(\"Feature\", fontsize = 12)\n",
    "    \n",
    "    pl.legend(loc = 'upper center')\n",
    "    pl.tight_layout()\n",
    "    pl.show()  \n"
   ]
  },
  {
   "cell_type": "code",
   "execution_count": 39,
   "metadata": {
    "scrolled": false
   },
   "outputs": [
    {
     "name": "stdout",
     "output_type": "stream",
     "text": [
      "learner LinearRegression()\n",
      "LinearRegression trained on 2780 samples.\n",
      "learner LinearRegression()\n",
      "LinearRegression trained on 27808 samples.\n",
      "learner LinearRegression()\n",
      "LinearRegression trained on 278088 samples.\n",
      "learner RandomForestRegressor(max_depth=2, random_state=0)\n",
      "RandomForestRegressor trained on 2780 samples.\n",
      "learner RandomForestRegressor(max_depth=2, random_state=0)\n",
      "RandomForestRegressor trained on 27808 samples.\n",
      "learner RandomForestRegressor(max_depth=2, random_state=0)\n",
      "RandomForestRegressor trained on 278088 samples.\n",
      "learner Ridge(alpha=0.5)\n",
      "Ridge trained on 2780 samples.\n",
      "learner Ridge(alpha=0.5)\n",
      "Ridge trained on 27808 samples.\n",
      "learner Ridge(alpha=0.5)\n"
     ]
    },
    {
     "name": "stderr",
     "output_type": "stream",
     "text": [
      "C:\\Users\\HP\\Anaconda3\\lib\\site-packages\\sklearn\\linear_model\\_ridge.py:157: LinAlgWarning: Ill-conditioned matrix (rcond=5.25792e-17): result may not be accurate.\n",
      "  return linalg.solve(A, Xy, sym_pos=True, overwrite_a=True).T\n"
     ]
    },
    {
     "name": "stdout",
     "output_type": "stream",
     "text": [
      "Ridge trained on 278088 samples.\n"
     ]
    },
    {
     "name": "stderr",
     "output_type": "stream",
     "text": [
      "C:\\Users\\HP\\Anaconda3\\lib\\site-packages\\ipykernel_launcher.py:115: UserWarning: Tight layout not applied. tight_layout cannot make axes width small enough to accommodate all axes decorations\n"
     ]
    },
    {
     "data": {
      "image/png": "[encoded data removed]",
      "text/plain": [
       "<Figure size 792x504 with 6 Axes>"
      ]
     },
     "metadata": {
      "needs_background": "light"
     },
     "output_type": "display_data"
    }
   ],
   "source": [
    "from sklearn.linear_model import LinearRegression\n",
    "from sklearn.ensemble import RandomForestRegressor\n",
    "from sklearn.linear_model import Ridge\n",
    "\n",
    "clf_A = LinearRegression()\n",
    "clf_B = RandomForestRegressor(max_depth=2, random_state=0)\n",
    "clf_C = Ridge(alpha = 0.5)\n",
    "\n",
    "# Calculate the number of samples for 1%, 10%, and 100% of the training data\n",
    "\n",
    "def get_sample_size(percentage):\n",
    "    return int((float(percentage)/100)*X_train.shape[0])\n",
    "\n",
    "samples_1 = get_sample_size(1.0)\n",
    "samples_10 = get_sample_size(10.0)\n",
    "samples_100 = get_sample_size(100.0)\n",
    "# Collect results on the learners\n",
    "results = {}\n",
    "for clf in [clf_A,clf_B, clf_C]:\n",
    "    clf_name = clf.__class__.__name__\n",
    "    results[clf_name] = {}\n",
    "    for i, samples in enumerate([samples_1, samples_10, samples_100]):\n",
    "        results[clf_name][i] = \\\n",
    "        train_predict(clf, samples, X_train, y_train, X_test, y_test)\n",
    "\n",
    "# Run metrics visualization for the three supervised learning models chosen\n",
    "evaluate(results, 0.8, 0.9)"
   ]
  },
  {
   "cell_type": "code",
   "execution_count": 40,
   "metadata": {
    "scrolled": false
   },
   "outputs": [
    {
     "name": "stdout",
     "output_type": "stream",
     "text": [
      "learner KNeighborsRegressor(n_neighbors=2)\n",
      "KNeighborsRegressor trained on 2780 samples.\n",
      "learner KNeighborsRegressor(n_neighbors=2)\n",
      "KNeighborsRegressor trained on 27808 samples.\n",
      "learner KNeighborsRegressor(n_neighbors=2)\n",
      "KNeighborsRegressor trained on 278088 samples.\n",
      "learner Lasso(alpha=0.1)\n"
     ]
    },
    {
     "name": "stderr",
     "output_type": "stream",
     "text": [
      "C:\\Users\\HP\\Anaconda3\\lib\\site-packages\\sklearn\\linear_model\\_coordinate_descent.py:648: ConvergenceWarning: Objective did not converge. You might want to increase the number of iterations, check the scale of the features or consider increasing regularisation. Duality gap: 1.768e+12, tolerance: 6.353e+08\n",
      "  coef_, l1_reg, l2_reg, X, y, max_iter, tol, rng, random, positive\n"
     ]
    },
    {
     "name": "stdout",
     "output_type": "stream",
     "text": [
      "Lasso trained on 2780 samples.\n",
      "learner Lasso(alpha=0.1)\n"
     ]
    },
    {
     "name": "stderr",
     "output_type": "stream",
     "text": [
      "C:\\Users\\HP\\Anaconda3\\lib\\site-packages\\sklearn\\linear_model\\_coordinate_descent.py:648: ConvergenceWarning: Objective did not converge. You might want to increase the number of iterations, check the scale of the features or consider increasing regularisation. Duality gap: 1.042e+13, tolerance: 4.723e+09\n",
      "  coef_, l1_reg, l2_reg, X, y, max_iter, tol, rng, random, positive\n"
     ]
    },
    {
     "name": "stdout",
     "output_type": "stream",
     "text": [
      "Lasso trained on 27808 samples.\n",
      "learner Lasso(alpha=0.1)\n"
     ]
    },
    {
     "name": "stderr",
     "output_type": "stream",
     "text": [
      "C:\\Users\\HP\\Anaconda3\\lib\\site-packages\\sklearn\\linear_model\\_coordinate_descent.py:648: ConvergenceWarning: Objective did not converge. You might want to increase the number of iterations, check the scale of the features or consider increasing regularisation. Duality gap: 9.852e+13, tolerance: 4.637e+10\n",
      "  coef_, l1_reg, l2_reg, X, y, max_iter, tol, rng, random, positive\n"
     ]
    },
    {
     "name": "stdout",
     "output_type": "stream",
     "text": [
      "Lasso trained on 278088 samples.\n",
      "learner DecisionTreeRegressor()\n",
      "DecisionTreeRegressor trained on 2780 samples.\n",
      "learner DecisionTreeRegressor()\n",
      "DecisionTreeRegressor trained on 27808 samples.\n",
      "learner DecisionTreeRegressor()\n",
      "DecisionTreeRegressor trained on 278088 samples.\n"
     ]
    },
    {
     "name": "stderr",
     "output_type": "stream",
     "text": [
      "C:\\Users\\HP\\Anaconda3\\lib\\site-packages\\ipykernel_launcher.py:115: UserWarning: Tight layout not applied. tight_layout cannot make axes width small enough to accommodate all axes decorations\n"
     ]
    },
    {
     "data": {
      "image/png": "[encoded data removed]",
      "text/plain": [
       "<Figure size 792x504 with 6 Axes>"
      ]
     },
     "metadata": {
      "needs_background": "light"
     },
     "output_type": "display_data"
    }
   ],
   "source": [
    "from sklearn.neighbors import KNeighborsRegressor\n",
    "from sklearn import linear_model\n",
    "from sklearn import tree\n",
    "\n",
    "results = {}\n",
    "clf_A = KNeighborsRegressor(n_neighbors=2)\n",
    "clf_B = linear_model.Lasso(alpha=0.1)\n",
    "clf_C = tree.DecisionTreeRegressor()\n",
    "\n",
    "# Calculate the number of samples for 1%, 10%, and 100% of the training data\n",
    "def get_sample_size(percentage):\n",
    "    return int((float(percentage)/100)*X_train.shape[0])\n",
    "\n",
    "samples_1 = get_sample_size(1.0)\n",
    "samples_10 = get_sample_size(10.0)\n",
    "samples_100 = get_sample_size(100.0)\n",
    "# Collect results on the learners\n",
    "results = {}\n",
    "for clf in [clf_A,clf_B, clf_C]:\n",
    "    clf_name = clf.__class__.__name__\n",
    "    results[clf_name] = {}\n",
    "    for i, samples in enumerate([samples_1, samples_10, samples_100]):\n",
    "        results[clf_name][i] = \\\n",
    "        train_predict(clf, samples, X_train, y_train, X_test, y_test)\n",
    "\n",
    "# metrics visualization for the three supervised learning models chosen\n",
    "evaluate(results, 0.7, 0.7)"
   ]
  },
  {
   "cell_type": "markdown",
   "metadata": {},
   "source": [
    "----\n",
    "## Improving Results\n",
    "\n",
    "We will perform a grid search optimization for the model over the entire training set (`X_train` and `y_train`) by tuning several parameter to improve upon the untuned model's R2-score. "
   ]
  },
  {
   "cell_type": "markdown",
   "metadata": {},
   "source": [
    "### Implementation: Model Tuning\n",
    "Fine tune the chosen model. Use grid search (`GridSearchCV`) with at least one important parameter tuned with at least 3 different values.\n"
   ]
  },
  {
   "cell_type": "code",
   "execution_count": 41,
   "metadata": {
    "scrolled": true
   },
   "outputs": [
    {
     "name": "stdout",
     "output_type": "stream",
     "text": [
      "Fitting 3 folds for each of 1 candidates, totalling 3 fits\n",
      "[CV 1/3] END max_depth=9, max_features=auto, max_leaf_nodes=None, min_samples_leaf=5, splitter=best;, score=0.845 total time=   4.4s\n",
      "[CV 2/3] END max_depth=9, max_features=auto, max_leaf_nodes=None, min_samples_leaf=5, splitter=best;, score=0.849 total time=   4.3s\n",
      "[CV 3/3] END max_depth=9, max_features=auto, max_leaf_nodes=None, min_samples_leaf=5, splitter=best;, score=0.897 total time=   4.4s\n"
     ]
    }
   ],
   "source": [
    "from sklearn.model_selection import GridSearchCV\n",
    "from sklearn.metrics import make_scorer\n",
    "from sklearn.tree import DecisionTreeRegressor\n",
    "\n",
    "clf = DecisionTreeRegressor()\n",
    "\n",
    "# Create the parameters list you wish to tune, using a dictionary if needed.\n",
    "#parameters = {'solver':['newton-cg','lbfgs'], 'max_iter':[10,100,200,300]}\n",
    "parameters_={\"splitter\":[\"best\",\"random\"],\n",
    "            \"max_depth\" : [1,3,5,7,9],\n",
    "           \"min_samples_leaf\":[1,2,3,4,5,6,7,8],\n",
    "           \"max_features\":[\"auto\",\"log2\",\"sqrt\",None],\n",
    "           \"max_leaf_nodes\":[None,10,20,30,40,50,60,70]}\n",
    "\n",
    "parameters={\"splitter\":[\"best\"],\n",
    "            \"max_depth\" : [9],\n",
    "           \"min_samples_leaf\":[5],\n",
    "           \"max_features\":[\"auto\"],\n",
    "           \"max_leaf_nodes\":[None]}\n",
    "\n",
    "# Make an fbeta_score scoring object using make_scorer()\n",
    "scorer = make_scorer(r2_score, beta=0.5)\n",
    "# Prform grid search on the classifier using 'scorer' as the scoring method using GridSearchCV()\n",
    "grid_obj = GridSearchCV(clf,param_grid=parameters,scoring='r2',cv=3,verbose=3)\n",
    "\n",
    "# Fit the grid search object to the training data and find the optimal parameters using fit()\n",
    "grid_fit = grid_obj.fit(X_train,y_train)\n",
    "\n",
    "# Get the estimator\n",
    "best_clf = grid_fit.best_estimator_\n",
    "\n",
    "# Make predictions using the unoptimized and model\n",
    "predictions = (clf.fit(X_train, y_train)).predict(X_test)\n",
    "best_predictions = best_clf.predict(X_test)\n"
   ]
  },
  {
   "cell_type": "code",
   "execution_count": 42,
   "metadata": {},
   "outputs": [
    {
     "name": "stdout",
     "output_type": "stream",
     "text": [
      "Unoptimized model\n",
      "------\n",
      "R2-Score on testing data: 0.7816\n",
      "\n",
      "Optimized Model\n",
      "------\n",
      "Final R2 Score on the testing data: 0.8894\n"
     ]
    },
    {
     "data": {
      "text/plain": [
       "['TrainedDecisionTree.pkl']"
      ]
     },
     "execution_count": 42,
     "metadata": {},
     "output_type": "execute_result"
    }
   ],
   "source": [
    "# Report: before-and-afterscores\n",
    "print(\"Unoptimized model\\n------\")\n",
    "print(\"R2-Score on testing data: {:.4f}\".format(r2_score(y_test, predictions)))\n",
    "print(\"\\nOptimized Model\\n------\")\n",
    "print(\"Final R2 Score on the testing data: {:.4f}\".format(r2_score(y_test, best_predictions)))\n",
    "\n",
    "#saving trained model as Pickel file\n",
    "from joblib import Parallel, delayed\n",
    "import joblib\n",
    "  \n",
    "#Save the model as a pickle in a file\n",
    "joblib.dump(best_clf, 'TrainedDecisionTree.pkl')\n",
    "  \n",
    "# Use the loaded model to make predictions\n",
    "#knn_from_joblib.predict(X_test)"
   ]
  },
  {
   "cell_type": "markdown",
   "metadata": {},
   "source": [
    "### Final Model Evaluation"
   ]
  },
  {
   "cell_type": "markdown",
   "metadata": {},
   "source": [
    "#### Results:\n",
    "\n",
    "|     Metric     | Unoptimized Model | Optimized Model |\n",
    "| :------------: | :---------------: | :-------------: | \n",
    "| R2-Score       |      0.7816       |     0.8894      |\n",
    "\n"
   ]
  },
  {
   "cell_type": "markdown",
   "metadata": {},
   "source": [
    "----\n",
    "## Feature Importance"
   ]
  },
  {
   "cell_type": "markdown",
   "metadata": {},
   "source": [
    "### Implementation - Extracting Feature Importance\n",
    "We have used GradientBoosterClassifier and RandomForest for feature selection and setting it's importance. This attribute is a function that ranks the importance of each feature when making predictions based on the chosen algorithm.\n",
    "\n",
    " - Import a supervised learning model from sklearn if it is different from the three used earlier.\n",
    " - Train the supervised model on the entire training set.\n",
    " - Extract the feature importances using `'.feature_importances_'`."
   ]
  },
  {
   "cell_type": "code",
   "execution_count": 16,
   "metadata": {
    "scrolled": false
   },
   "outputs": [
    {
     "data": {
      "image/png": "[encoded data removed]",
      "text/plain": [
       "<Figure size 648x360 with 1 Axes>"
      ]
     },
     "metadata": {
      "needs_background": "light"
     },
     "output_type": "display_data"
    }
   ],
   "source": [
    "# TODO: Import a supervised learning model that has 'feature_importances_'\n",
    "from sklearn.ensemble import GradientBoostingClassifier\n",
    "\n",
    "X_train_new = features_final.head(100)\n",
    "y_train_new = actual_burstTime.head(100)\n",
    "# TODO: Train the supervised model on the training set using .fit(X_train, y_train)\n",
    "model = GradientBoostingClassifier(n_estimators=20, learning_rate=1.0, max_depth=1, random_state=0).fit(X_train_new, y_train_new)\n",
    "model.fit(X_train_new,y_train_new)\n",
    "\n",
    "# TODO: Extract the feature importances using .feature_importances_ b\n",
    "importances = model.feature_importances_\n",
    "\n",
    "# Plot\n",
    "vs.feature_plot(importances, X_train_new, y_train_new)"
   ]
  },
  {
   "cell_type": "code",
   "execution_count": 17,
   "metadata": {
    "scrolled": true
   },
   "outputs": [
    {
     "name": "stdout",
     "output_type": "stream",
     "text": [
      "   JobID  SubmitTime  WaitTime  NProcs  AverageCPUTimeUsed  Used Memory  \\\n",
      "0      1    0.000000  0.799804     0.0            0.949614     0.760788   \n",
      "1      2    0.000021  0.000000     0.0            0.129108     0.693816   \n",
      "2      3    0.000038  0.312123     0.0            0.000000     0.000000   \n",
      "3      4    0.000039  0.548980     0.0            0.000000     0.000000   \n",
      "4      5    0.000039  0.799403     0.0            0.789198     0.871048   \n",
      "\n",
      "   ReqNProcs  ReqTime:  Status  UserID  GroupID  ExecutableID  QueueID  \\\n",
      "0        0.0  0.954728       1     132        2             0        8   \n",
      "1        0.0  0.954728       1      26        0             0        0   \n",
      "2        0.0  0.954728       1     166        5             0        5   \n",
      "3        0.0  0.954728       1     166        5             0        5   \n",
      "4        0.0  0.954728       1     166        5             0        5   \n",
      "\n",
      "   PartitionID  OrigSiteID  LastRunSiteID  \n",
      "0            1           1              1  \n",
      "1            1           0              0  \n",
      "2            1           1              1  \n",
      "3            1           1              1  \n",
      "4            1           1              1  \n"
     ]
    }
   ],
   "source": [
    "from sklearn import preprocessing\n",
    "# label_encoder object knows how to understand word labels. \n",
    "\n",
    "before_encoding = features_log_minmax_transform\n",
    "\n",
    "label_encoder = preprocessing.LabelEncoder() \n",
    "before_encoding['UserID'] = label_encoder.fit_transform(before_encoding['UserID']) \n",
    "before_encoding['GroupID'] = label_encoder.fit_transform(before_encoding['GroupID']) \n",
    "before_encoding['ExecutableID'] = label_encoder.fit_transform(before_encoding['ExecutableID']) \n",
    "before_encoding['QueueID'] = label_encoder.fit_transform(before_encoding['QueueID']) \n",
    "before_encoding['OrigSiteID'] = label_encoder.fit_transform(before_encoding['OrigSiteID']) \n",
    "before_encoding['LastRunSiteID'] = label_encoder.fit_transform(before_encoding['LastRunSiteID']) \n",
    "print(before_encoding.head())\n",
    "X_train_new = before_encoding.head(100)"
   ]
  },
  {
   "cell_type": "code",
   "execution_count": 34,
   "metadata": {},
   "outputs": [
    {
     "data": {
      "image/png": "[encoded data removed]",
      "text/plain": [
       "<Figure size 576x432 with 1 Axes>"
      ]
     },
     "metadata": {
      "needs_background": "light"
     },
     "output_type": "display_data"
    }
   ],
   "source": [
    "clf = GradientBoostingClassifier(n_estimators=100, learning_rate=0.05, max_depth=5, random_state=0)\n",
    "clf.fit(X_train_new, y_train_new)\n",
    "%matplotlib inline\n",
    "\n",
    "# Plot feature importance https://scikit-learn.org/stable/modules/generated/sklearn.svm.SVR.html#sklearn.svm.SVR\n",
    "feature_importance = clf.feature_importances_\n",
    "# make importances relative to max importance\n",
    "feature_importance = 100.0 * (feature_importance / feature_importance.max())\n",
    "sorted_idx = np.argsort(feature_importance)\n",
    "pos = np.arange(sorted_idx.shape[0]) + .5\n",
    "# plt.subplot(1, 2, 2)\n",
    "plt.figure(figsize=(8, 6))\n",
    "plt.barh(pos, feature_importance[sorted_idx], align='center')\n",
    "plt.yticks(pos, X_train.keys()[sorted_idx])\n",
    "plt.xlabel('Relative Importance')\n",
    "plt.title('Variable Importance')\n",
    "plt.savefig('Gradient_Feature.png', dpi=200)\n",
    "plt.show()\n"
   ]
  },
  {
   "cell_type": "markdown",
   "metadata": {},
   "source": [
    "### Feature Selection\n"
   ]
  },
  {
   "cell_type": "code",
   "execution_count": 35,
   "metadata": {},
   "outputs": [
    {
     "name": "stdout",
     "output_type": "stream",
     "text": [
      "Training set has 278088 samples.\n",
      "Testing set has 69523 samples.\n"
     ]
    }
   ],
   "source": [
    "# Split the 'features' and 'income' data into training and testing sets\n",
    "X_train_new, X_test_new, y_train_new, y_test_new = train_test_split(before_encoding, \n",
    "                                                    actual_burstTime, \n",
    "                                                    test_size = 0.2, \n",
    "                                                    random_state = 0)\n",
    "\n",
    "# Show the results of the split\n",
    "print(\"Training set has {} samples.\".format(X_train_new.shape[0])) #shape[0] it checks no of rows\n",
    "print(\"Testing set has {} samples.\".format(X_test_new.shape[0]))\n"
   ]
  },
  {
   "cell_type": "code",
   "execution_count": 36,
   "metadata": {},
   "outputs": [
    {
     "ename": "NameError",
     "evalue": "name 'best_clf' is not defined",
     "output_type": "error",
     "traceback": [
      "\u001b[1;31m---------------------------------------------------------------------------\u001b[0m",
      "\u001b[1;31mNameError\u001b[0m                                 Traceback (most recent call last)",
      "\u001b[1;32m<ipython-input-36-b2718322d295>\u001b[0m in \u001b[0;36m<module>\u001b[1;34m\u001b[0m\n\u001b[0;32m      9\u001b[0m \u001b[1;31m# Train on the \"best\" model found from grid search earlier\u001b[0m\u001b[1;33m\u001b[0m\u001b[1;33m\u001b[0m\u001b[1;33m\u001b[0m\u001b[0m\n\u001b[0;32m     10\u001b[0m \u001b[1;31m# Load the model from the file\u001b[0m\u001b[1;33m\u001b[0m\u001b[1;33m\u001b[0m\u001b[1;33m\u001b[0m\u001b[0m\n\u001b[1;32m---> 11\u001b[1;33m \u001b[0mclf\u001b[0m \u001b[1;33m=\u001b[0m \u001b[1;33m(\u001b[0m\u001b[0mclone\u001b[0m\u001b[1;33m(\u001b[0m\u001b[0mbest_clf\u001b[0m\u001b[1;33m)\u001b[0m\u001b[1;33m)\u001b[0m\u001b[1;33m.\u001b[0m\u001b[0mfit\u001b[0m\u001b[1;33m(\u001b[0m\u001b[0mX_train_reduced\u001b[0m\u001b[1;33m,\u001b[0m \u001b[0my_train_new\u001b[0m\u001b[1;33m)\u001b[0m\u001b[1;33m\u001b[0m\u001b[1;33m\u001b[0m\u001b[0m\n\u001b[0m\u001b[0;32m     12\u001b[0m \u001b[1;33m\u001b[0m\u001b[0m\n\u001b[0;32m     13\u001b[0m \u001b[1;31m# Make new predictions\u001b[0m\u001b[1;33m\u001b[0m\u001b[1;33m\u001b[0m\u001b[1;33m\u001b[0m\u001b[0m\n",
      "\u001b[1;31mNameError\u001b[0m: name 'best_clf' is not defined"
     ]
    }
   ],
   "source": [
    "# Import functionality for cloning a model\n",
    "from sklearn.base import clone\n",
    "\n",
    "# Reduce the feature space\n",
    "\n",
    "X_train_reduced = X_train_new[X_train_new.columns.values[(np.argsort(feature_importance)[::-1])[:10]]]\n",
    "X_test_reduced = X_test_new[X_test_new.columns.values[(np.argsort(feature_importance)[::-1])[:10]]]\n",
    "\n",
    "# Train on the \"best\" model found from grid search earlier\n",
    "# Load the model from the file\n",
    "clf = (clone(best_clf)).fit(X_train_reduced, y_train_new)\n",
    "\n",
    "# Make new predictions\n",
    "reduced_predictions = clf.predict(X_test_reduced)\n",
    "\n",
    "# Report scores from the final model using both versions of data\n",
    "print(\"Final Model trained on full data\\n------\")\n",
    "print(\"Accuracy on testing data: {:.4f}\".format(r2_score(y_test_new, best_predictions)))\n",
    "print(\"F-score on testing data: {:.4f}\".format(mean_absolute_error(y_test_new, best_predictions)))\n",
    "print(\"\\nFinal Model trained on reduced data\\n------\")\n",
    "print(\"Accuracy on testing data: {:.4f}\".format(r2_score(y_test_new, reduced_predictions)))\n",
    "print(\"F-score on testing data: {:.4f}\".format(mean_absolute_error(y_test_new, reduced_predictions)))"
   ]
  },
  {
   "cell_type": "code",
   "execution_count": 37,
   "metadata": {
    "scrolled": false
   },
   "outputs": [
    {
     "data": {
      "image/png": "[encoded data removed]",
      "text/plain": [
       "<Figure size 576x432 with 1 Axes>"
      ]
     },
     "metadata": {
      "needs_background": "light"
     },
     "output_type": "display_data"
    }
   ],
   "source": [
    "## Feature Selection using Random Forest\n",
    "from sklearn.ensemble import RandomForestRegressor\n",
    "clf = RandomForestRegressor(n_estimators=100)\n",
    "clf.fit(X_train_new.head(200), y_train_new.head(200))\n",
    "\n",
    "# Plot feature importance https://scikit-learn.org/stable/modules/generated/sklearn.svm.SVR.html#sklearn.svm.SVR\n",
    "feature_importance = clf.feature_importances_\n",
    "# make importances relative to max importance\n",
    "feature_importance = 100.0 * (feature_importance / feature_importance.max())\n",
    "sorted_idx = np.argsort(feature_importance)\n",
    "pos = np.arange(sorted_idx.shape[0]) + .5\n",
    "# plt.subplot(1, 2, 2)\n",
    "plt.figure(figsize=(8, 6))\n",
    "plt.barh(pos, feature_importance[sorted_idx], align='center')\n",
    "plt.yticks(pos, X_train.keys()[sorted_idx])\n",
    "plt.xlabel('Relative Importance')\n",
    "plt.title('Variable Importance')\n",
    "plt.savefig('RF_Feature.png', dpi=200)\n",
    "plt.show()"
   ]
  },
  {
   "cell_type": "code",
   "execution_count": 56,
   "metadata": {},
   "outputs": [
    {
     "name": "stdout",
     "output_type": "stream",
     "text": [
      "Final Model trained on full data\n",
      "------\n",
      "Accuracy on testing data: 0.8894\n",
      "F-score on testing data: 2973.4186\n",
      "\n",
      "Final Model trained on reduced data\n",
      "------\n",
      "Accuracy on testing data: 0.8772\n",
      "F-score on testing data: 2965.2617\n"
     ]
    }
   ],
   "source": [
    "X_train_reduced = X_train_new[X_train_new.columns.values[(np.argsort(feature_importance)[::-1])[:10]]]\n",
    "X_test_reduced = X_test_new[X_test_new.columns.values[(np.argsort(feature_importance)[::-1])[:10]]]\n",
    "\n",
    "# Train on the \"best\" model found from grid search earlier\n",
    "# Load the model from the file\n",
    "clf = (clone(best_clf)).fit(X_train_reduced, y_train_new)\n",
    "\n",
    "# Make new predictions\n",
    "reduced_predictions = clf.predict(X_test_reduced)\n",
    "\n",
    "# Report scores from the final model using both versions of data\n",
    "print(\"Final Model trained on full data\\n------\")\n",
    "print(\"Accuracy on testing data: {:.4f}\".format(r2_score(y_test_new, best_predictions)))\n",
    "print(\"F-score on testing data: {:.4f}\".format(mean_absolute_error(y_test_new, best_predictions)))\n",
    "print(\"\\nFinal Model trained on reduced data\\n------\")\n",
    "print(\"Accuracy on testing data: {:.4f}\".format(r2_score(y_test_new, reduced_predictions)))\n",
    "print(\"F-score on testing data: {:.4f}\".format(mean_absolute_error(y_test_new, reduced_predictions)))"
   ]
  },
  {
   "cell_type": "markdown",
   "metadata": {},
   "source": [
    "### Effects of Feature Selection\n"
   ]
  },
  {
   "cell_type": "markdown",
   "metadata": {},
   "source": [
    "\n",
    "\n",
    "\n",
    "\n",
    "\n",
    "|     Metric     |   Benchmark model | Unoptimized Model | Optimized Model    | Reduced features Model | \n",
    "| :------------: | :---------------: | :-------------:   | :------------:     | :--------------------: |\n",
    "| R2 Score       |    0.70           |    0.7816         |   0.90             |      0.8284            |\n",
    "\n",
    "\n",
    "- As expected, reducing the number of features has a negative impact upon our model. The optimized model has performed significantly well - increased the R2 Score from 0.7816 to 0.889 (~0.90).\n",
    "\n",
    "- Moreover, Selecting important features havn't contributed much in this case as reducing features from 16 to 10 has decreased the R2 score to 0.8284 "
   ]
  }
 ],
 "metadata": {
  "anaconda-cloud": {},
  "kernelspec": {
   "display_name": "Python 3",
   "language": "python",
   "name": "python3"
  },
  "language_info": {
   "codemirror_mode": {
    "name": "ipython",
    "version": 3
   },
   "file_extension": ".py",
   "mimetype": "text/x-python",
   "name": "python",
   "nbconvert_exporter": "python",
   "pygments_lexer": "ipython3",
   "version": "3.7.4"
  }
 },
 "nbformat": 4,
 "nbformat_minor": 1
}
